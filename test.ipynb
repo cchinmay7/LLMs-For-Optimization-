{
 "cells": [
  {
   "cell_type": "markdown",
   "metadata": {},
   "source": [
    "# Importing Libraries"
   ]
  },
  {
   "cell_type": "code",
   "execution_count": 1,
   "metadata": {},
   "outputs": [
    {
     "name": "stderr",
     "output_type": "stream",
     "text": [
      "e:\\My Projects\\LLMs for Optimzation\\venv_quiz\\lib\\site-packages\\pinecone\\data\\index.py:1: TqdmWarning: IProgress not found. Please update jupyter and ipywidgets. See https://ipywidgets.readthedocs.io/en/stable/user_install.html\n",
      "  from tqdm.autonotebook import tqdm\n"
     ]
    }
   ],
   "source": [
    "import langchain\n",
    "import langchain_openai\n",
    "import pinecone\n",
    "import langchain_huggingface"
   ]
  },
  {
   "cell_type": "markdown",
   "metadata": {},
   "source": [
    "# Video about VectorDB\n",
    "\n",
    "https://www.youtube.com/watch?v=klTvEwg3oJ4"
   ]
  },
  {
   "cell_type": "markdown",
   "metadata": {},
   "source": [
    "# Load Environment Variables"
   ]
  },
  {
   "cell_type": "code",
   "execution_count": 2,
   "metadata": {},
   "outputs": [
    {
     "data": {
      "text/plain": [
       "True"
      ]
     },
     "execution_count": 2,
     "metadata": {},
     "output_type": "execute_result"
    }
   ],
   "source": [
    "from dotenv import load_dotenv\n",
    "load_dotenv()"
   ]
  },
  {
   "cell_type": "markdown",
   "metadata": {},
   "source": [
    "# Methods"
   ]
  },
  {
   "cell_type": "code",
   "execution_count": 3,
   "metadata": {},
   "outputs": [],
   "source": [
    "from langchain.document_loaders import PyPDFDirectoryLoader\n",
    "\n",
    "def read_doc(directory):\n",
    "    file_loader = PyPDFDirectoryLoader(directory)\n",
    "    documents = file_loader.load()\n",
    "    return documents"
   ]
  },
  {
   "cell_type": "code",
   "execution_count": 4,
   "metadata": {},
   "outputs": [
    {
     "data": {
      "text/plain": [
       "15"
      ]
     },
     "execution_count": 4,
     "metadata": {},
     "output_type": "execute_result"
    }
   ],
   "source": [
    "doc = read_doc('documents/')\n",
    "len(doc)"
   ]
  },
  {
   "cell_type": "code",
   "execution_count": 5,
   "metadata": {},
   "outputs": [],
   "source": [
    "from langchain.text_splitter import RecursiveCharacterTextSplitter \n",
    "\n",
    "def chunk_data(docs, chunk_size = 800, chunk_overlap = 50):\n",
    "    text_splitter = RecursiveCharacterTextSplitter(chunk_size = chunk_size, chunk_overlap = chunk_overlap)\n",
    "    text_splitter.split_documents(docs)\n",
    "    return docs"
   ]
  },
  {
   "cell_type": "code",
   "execution_count": 6,
   "metadata": {},
   "outputs": [
    {
     "data": {
      "text/plain": [
       "[Document(page_content='The Traveling Salesman problem\\nAmanur Rahman Saiyed\\nIndiana State University\\nTerre Haute, IN 47809 , USA\\nasaiyed@sycamores.indstate.edu\\nApril 11, 2012\\nAbstract\\nThe Traveling Salesman Problem, deals with creating the ideal path\\nthat a salesman would take while traveling between cities. The solution\\nto any given TSP would be the Shortest way to visit a ﬁnite number\\nof cities, visiting each city only once, and then returning to the starting\\npoint. We also must assume that if there are two cities, city A and city\\nB for example, it costs the same amount of money to travel from A to\\nB as it does from B to A. For the most part, the solving of a TSP is\\nno longer executed for the intention its name indicates. Instead, it is a\\nfoundation for studying general methods that are applied to a wide range\\nof optimization problems.\\nContents\\n1 Statement Of The Problem 2\\n2 History of The TSP 2\\n3 Solution methods of TSP 3\\n3.1 Exact Solutions . . . . . . . . . . . . . . . . . . . . . . . . . 3\\n3.1.1 Brute force method . . . . . . . . . . . . . . . . . . . 3\\n3.1.2 Example for Brute Force Technique . . . . . . . . . 4\\n3.1.3 Branch and Bound . . . . . . . . . . . . . . . . . . . 5\\n4 Approximate solutions 5\\n4.1 Nearest Neighbor . . . . . . . . . . . . . . . . . . . . . . . . 5\\n4.1.1 Example for Nearest Neighbor Method . . . . . . . 6\\n4.2 Greedy . . . . . . . . . . . . . . . . . . . . . . . . . . . . . . 7\\n5 Optimization Techniques 8\\n5.1 2-opt and 3-opt . . . . . . . . . . . . . . . . . . . . . . . . . 8\\n5.1.1 Example for 2-opt Technique . . . . . . . . . . . . . 9\\n1', metadata={'source': 'documents\\\\Travelling Salesman.pdf', 'page': 0}),\n",
       " Document(page_content='THE TRAVELING SALESMAN PROBLEM 2\\n1 Statement Of The Problem\\nThe traveling salesman problem involves a salesman who must make a tour\\nof a number of cities using the shortest path available and visit each city\\nexactly once and only once and return to the original starting point. For\\neach number of cities n,the number of paths which must be explored is n!,\\ncausing this problem to grow exponentially rather than as a polynomial.\\nThere are bunch of algorithms oﬀering comparably fast running time and\\nstill yielding near optimal solutions.\\n2 History of The TSP\\nThe Traveling Salesman Problem (TSP) is a problem whose solution has\\neluded many mathematicians for years. Currently there is no solution\\nto the TSP that has satisﬁed mathematicians. Historically, mathematics\\nrelated to the TSP was developed in the 1800’s by Sir William Rowan\\nHamilton and Thomas Penyngton Kirkman, Irish and British mathemati-\\ncians, respectively. Hamilton was the creator of the Icosian Game in 1857.\\nIt was a pegboard with twenty holes that required each vertex to be vis-\\nited only once, no edge to be visited more than once, and the ending point\\nbeing the same as the starting point.This kind of path was eventually re-\\nferred to as a Hamiltonian circuit.However, the general form of the TSP\\nwas ﬁrst studied by Karl Menger in Vienna and Harvard in the late 1920’s\\nor early 1930’s.\\nTSP?s were ﬁrst studied in the 1930?s by mathematician and economist\\nKarl Menger in Vienna and Harvard. It was later investigated by Hassler\\nWhitney and Merrill Flood at Princeton.\\nIn 1994, Applegate, Bixby , Chvatal, and Cook solved TSP containing\\n7,397 cities. Later in 1998, they solved it using 13,509 cities in United\\nStates. In 2001, Applegate, Bixby, Chvtal, and Cook found the optimal\\ntour of 15,112 cities in Germany. Later in 2004, TSP of visiting all 24,978\\ncities in Sweden was solved; a tour of length of approximately 72,500\\nkilometers was found and it was proven that no shorter tour exists. This\\nis currently the largest solved TSP.', metadata={'source': 'documents\\\\Travelling Salesman.pdf', 'page': 1}),\n",
       " Document(page_content='THE TRAVELING SALESMAN PROBLEM 3\\nTable 1: Summarizes the Milestones of TSP\\nYear Research Team Size of instance\\n1954 G. Dantzig, R. Fulkerson, and S. Johnson 49 cities\\n1971 M. Held and R.M. Karp 64 cities\\n1975 P.M. Camerini, L. Fratta, and F. Maﬃoli 67 cities\\n1977 M. Grotschel 120 cities\\n1980 H. Crowder and M.W. Padberg 318 cities\\n1987 M. Padberg and G. Rinaldi 532 cities\\n1987 M. Padberg and G. Rinaldi 2,392 cities\\n1994 David L.Applegate, Robert E.Bixby, Vasek Chvatal, and William J. Cook 7,397 cities\\n1998 David L.Applegate, Robert E.Bixby, Vasek Chvatal, and William J. Cook 13,509 cities\\n2001 David L.Applegate, Robert E.Bixby, Vasek Chvatal, and William J. Cook 15,112 cities\\n2004 David L.Applegate, Robert E.Bixby, Vasek Chvatal, and William J. Cook 24,978 cities\\n3 Solution methods of TSP\\nIntroduction\\nSuppose a salesperson needs to travel from a city to all the other cities\\nexactly once to sell his products and return back to the city he started\\nfrom. He wants to do this while covering the minimum total distance.\\nHow can he do that? This is where solving the TSP comes in. Some\\nsolution methods of TSP include:\\n3.1 Exact Solutions\\n•Brute-force method.\\n•Branch and Bound.\\n3.1.1 Brute force method\\nWhen one thinks of solving TSP, the ﬁrst method that might come to mind\\nis a brute-force method. The brute-force method is to simply generate all\\npossible tours and compute their distances. The shortest tour is thus the\\noptimal tour. To solve TSP using Brute-force method we can use the\\nfollowing steps:\\nStep 1. calculate the total number of tours.\\nStep 2. draw and list all the possible tours.', metadata={'source': 'documents\\\\Travelling Salesman.pdf', 'page': 2}),\n",
       " Document(page_content='THE TRAVELING SALESMAN PROBLEM 4\\nStep 3. calculate the distance of each tour.\\nStep 4. choose the shortest tour, this is the optimal solution.\\n3.1.2 Example for Brute Force Technique\\nA B\\nC D3\\n5\\n2 910\\n1\\nHere, there are 4 nodes. There is a possibility of the following 3 paths\\nA B\\nC D3\\n5\\n2 9\\n10\\n1A B\\nC D3\\n5\\n2 9\\n10\\n1\\nA→B→C→D→A= 15 A→B→D→C→A= 19', metadata={'source': 'documents\\\\Travelling Salesman.pdf', 'page': 3}),\n",
       " Document(page_content='THE TRAVELING SALESMAN PROBLEM 5\\nA B\\nC D3\\n5\\n2 9\\n10\\n1\\nA→C→B→D→A= 26\\nThe best distance path is A→B→C→D→E→A, of value 15 .\\n3.1.3 Branch and Bound\\nThe Branch and Bound strategy divides a problem to be solved into a\\nnumber of sub-problems. It is a system for solving a sequence of sub-\\nproblems each of which may have multiple possible solutions and where\\nthe solution chosen for one sub-problem may aﬀect the possible solutions\\nof later sub-problems.\\nStep 1: Choose a start node.\\nStep 2: Set bound to a very large value, let’s say inﬁnity.\\nStep 3: Choose the cheapest arc between the current and unvisited node and\\nadd the distance to the current distance and repeat while the current\\ndistance is less than the bound.\\nStep 4: If current distance is less than bound, then we are done\\nStep 5: Add up the distance and bound will be equal to the current distance.\\nStep 6: Repeat step 5 until all the arcs have been covered.\\n4 Approximate solutions\\n•Nearest Neighbor.\\n•Greedy approach.\\n4.1 Nearest Neighbor\\nThis is perhaps the simplest and most straight forward TSP heuristic.\\nThe key to this algorithm is to always visit the nearest city, then return', metadata={'source': 'documents\\\\Travelling Salesman.pdf', 'page': 4}),\n",
       " Document(page_content='THE TRAVELING SALESMAN PROBLEM 6\\nto the starting city when all the other cities are visited.\\nNearest Neighbor, O(n2)\\nStep 1. Select a random city.\\nStep 2. Find the nearest unvisited city and go there.\\nStep 3. Are there any unvisited cities left? If yes, repeat step 2.\\nStep 4. Return to the ﬁrst city.\\n4.1.1 Example for Nearest Neighbor Method\\nThis is the step-wise approximate solution by nearest neighbor method.\\nThis case has 5 nodes. We start with the node A and perform the\\nnearest neighbor algorithm.\\nA B\\nC D\\nE13\\n5\\n219\\n9\\n1\\n212 4\\n7A B\\nC D\\nE13\\n5\\n219\\n9\\n1\\n212 4\\n7\\nA B\\nC D\\nE13\\n5\\n219\\n9\\n1\\n212 4\\n7A B\\nC D\\nE13\\n5\\n219\\n9\\n1\\n212 4\\n7', metadata={'source': 'documents\\\\Travelling Salesman.pdf', 'page': 5}),\n",
       " Document(page_content='THE TRAVELING SALESMAN PROBLEM 7\\nA B\\nC D\\nE13\\n5\\n219\\n9\\n1\\n212 4\\n7A B\\nC D\\nE13\\n5\\n219\\n9\\n1\\n212 4\\n7\\nA B\\nC D\\nE13\\n5\\n219\\n9\\n1\\n212 4\\n7\\nThe total distance of the path A→D→C→B→E→Aobtained\\nusing the nearest neighbor method is 2 + 1 + 9 + 9 + 21 = 42 .\\n4.2 Greedy\\nGreedy algorithm is the simplest improvement algorithm. It starts with\\nthe departure Node 1. Then the algorithm calculates all the distances to\\nother n−1 nodes. Go to the next closest node. Take the current node as\\nthe departing node, and select the next nearest node from the remaining\\nn−2 nodes. The process continues until all the nodes are visited once\\nand only once then back to Node 1. When the algorithm is terminated,\\nthe sequence is returned as the best tour.\\nGreedy, O(n2log2(n))', metadata={'source': 'documents\\\\Travelling Salesman.pdf', 'page': 6}),\n",
       " Document(page_content='THE TRAVELING SALESMAN PROBLEM 8\\n5 Optimization Techniques\\nOnce a tour has been generated by some tour construction heuristic, we\\nmight wish to improve that solution. There are several ways to do this,\\nbut the most common ones are the 2-opt and 3-opt local searches. Their\\nperformances are somewhat linked to the construction heuristic used.\\n5.1 2-opt and 3-opt\\nThe 2-Opt algorithm was ﬁrst proposed by Croes [1958], although the\\nbasic move had already been suggested by Flood [1956]. The 2-opt algo-\\nrithm basically removes two edges from the tour, and reconnects the two\\npaths created. This is often referred to as a 2-opt move.\\nThe 3-opt algorithm works in a similar fashion, but instead of removing\\ntwo edges we remove three. A 3-opt move can actually be seen as two or\\nthree 2-opt moves.\\nWe ﬁnish our search when no more 3-opt moves can improve the tour.\\nIf a tour is 3-optimal it is also 2-optimal.\\nWhen talking about the complexity of these k-opt algorithms, one\\ntends to omit the fact that a move can take up to O(n) to perform.A\\nnaive implementation of 2-opt runs in O(n2),this involves selecting an\\nedge ( c1, c2) and searching for another edge ( c3, c4), completing a move\\nonly if dist( c1, c2) + dist( c3, c4)>dist(c2, c3) + dist( c1, c4).\\nFigure 1: 2-Opt move', metadata={'source': 'documents\\\\Travelling Salesman.pdf', 'page': 7}),\n",
       " Document(page_content='THE TRAVELING SALESMAN PROBLEM 9\\nFigure 2: 2-Opt move\\nFigure 3: 3-Opt move\\nFigure 4: 3-Opt move\\n5.1.1 Example for 2-opt Technique\\nAssume that this is the solution obtained from nearest neighbor method\\nor some kind of approximation method.', metadata={'source': 'documents\\\\Travelling Salesman.pdf', 'page': 8}),\n",
       " Document(page_content='THE TRAVELING SALESMAN PROBLEM 10\\nA B\\nC D\\nEF\\n13\\n5\\n219\\n9\\n1\\n2124\\n72\\n35\\n12\\n24\\nHere, we can see that the total distance of the tour is 47. We have\\nto apply 2-opt algorithm over this approximate solution to improve the\\nsolution.', metadata={'source': 'documents\\\\Travelling Salesman.pdf', 'page': 9}),\n",
       " Document(page_content='THE TRAVELING SALESMAN PROBLEM 11\\nFor this, we ﬁrst select an edge. Let the edge be AD. We should now\\nselect an edge such that it is not adjacent to the edge being considered,\\nAD. Here, we only one such edge, BE. We can replace AD and BE with\\nAB and DE.\\nA B\\nC D\\nEF\\n13\\n5\\n219\\n9\\n2124\\n72\\n35\\n12\\n24\\n1\\nHere we can see that that the sum of replaceable edges is higher than\\nthe sum of the original edges. So, we do not replace the edges\\nWe now consider the next edge, DC. Its has only one non adjacent\\nedge,\\nA B\\nC D\\nEF\\n13\\n5\\n219\\n9\\n2124\\n72\\n35\\n12\\n24\\n1A B\\nC D\\nEF\\n13\\n5\\n219\\n9\\n2124\\n72\\n35\\n12\\n24\\n1\\nHere, as we have the sum of current edges greater than the sum of\\nreplaceable edges, we replace them with the replaceable edges.', metadata={'source': 'documents\\\\Travelling Salesman.pdf', 'page': 10}),\n",
       " Document(page_content='THE TRAVELING SALESMAN PROBLEM 12\\nWe now consider the edge DE. This edge has the non adjacent edge\\nCF.\\nA B\\nC D\\nEF\\n13\\n5\\n219\\n9\\n2124\\n72\\n35\\n12\\n24\\n1\\nAs the replaceable edges are larger than the original edges, we don’t\\nreplace the original edges.\\nWe go to the next step where the edge EB is selected. The edge that\\nis non adjacent to this edge is FA.\\nA B\\nC D\\nEF\\n13\\n5\\n219\\n9\\n2124\\n72\\n35\\n12\\n24\\n1\\nNo edge replacement is necessary in this case.', metadata={'source': 'documents\\\\Travelling Salesman.pdf', 'page': 11}),\n",
       " Document(page_content='THE TRAVELING SALESMAN PROBLEM 13\\nWe now move on to the next edge, BC. The non adjacent edge to this\\nedge is AD.\\nA B\\nC D\\nEF\\n13\\n5\\n219\\n9\\n2124\\n72\\n35\\n12\\n24\\n1\\nThis scenario doesn’t warrant any change in the path.\\nNow we consider the next edge CF. The non adjacent edge of this edge\\nis DE.\\nA B\\nC D\\nEF\\n13\\n5\\n219\\n9\\n2124\\n72\\n35\\n12\\n24\\n1\\nHere, there is no need to change any path as the replaceable edges are\\nof smaller size when compared to the existing edges.', metadata={'source': 'documents\\\\Travelling Salesman.pdf', 'page': 12}),\n",
       " Document(page_content='THE TRAVELING SALESMAN PROBLEM 14\\nThe next edge to be considered is FA. The non adjacent edge for FA\\nis EB.\\nA B\\nC D\\nEF\\n13\\n5\\n219\\n9\\n2124\\n72\\n35\\n12\\n24\\n1\\nThis is also the case where there is no need for change in the path.\\nFinally, we arrive at the optimized solution from the approximate so-\\nlution obtained from various approximation techniques.\\nA B\\nC D\\nEF\\n13\\n5\\n219\\n9\\n2124\\n72\\n35\\n12\\n24\\n1\\nWe ﬁnally have a solution of path size 41. This is an improvement\\nfrom the earlier path.', metadata={'source': 'documents\\\\Travelling Salesman.pdf', 'page': 13}),\n",
       " Document(page_content='THE TRAVELING SALESMAN PROBLEM 15\\nFigure 5: Comparison of algorithms\\nReferences\\n[1]David L.Applegate, Robert E.Bixby, Vasek Chvatal, William J.Cook ”The\\nTraveling Salesman Problem” , year = 2001.\\n[2]D.S. Johnson and L.A. McGeoch, ”Experimental Analysis of Heuristics for\\nthe STSP ” , The Traveling Salesman Problem and its Variations, year =\\n2002.\\n[3]Cook, William., ”History of the TSP ” The Traveling Salesman Problem ,\\nyear = 2009.\\n[4]http://en.wikipedia.org/wiki/Traveling salesman problem\\n[5]http://www.tsp.gatech.edu/', metadata={'source': 'documents\\\\Travelling Salesman.pdf', 'page': 14})]"
      ]
     },
     "execution_count": 6,
     "metadata": {},
     "output_type": "execute_result"
    }
   ],
   "source": [
    "documents = chunk_data(docs = doc)\n",
    "documents"
   ]
  },
  {
   "cell_type": "code",
   "execution_count": 20,
   "metadata": {},
   "outputs": [],
   "source": [
    "def retrieve_query(query, index, k=2):\n",
    "    matching_results = index.similarity_search(query, k=k)\n",
    "    return matching_results"
   ]
  },
  {
   "cell_type": "code",
   "execution_count": 21,
   "metadata": {},
   "outputs": [],
   "source": [
    "def retrieve_answers(query, chain, index):\n",
    "    doc_search = retrieve_query(query, index)\n",
    "    print(doc_search)\n",
    "    response = chain.run(input_documents = doc_search, question = query)\n",
    "    return response"
   ]
  },
  {
   "cell_type": "markdown",
   "metadata": {},
   "source": [
    "# Converting document to embeddings"
   ]
  },
  {
   "cell_type": "code",
   "execution_count": 22,
   "metadata": {},
   "outputs": [
    {
     "data": {
      "text/plain": [
       "OpenAIEmbeddings(client=<openai.resources.embeddings.Embeddings object at 0x000002A4A398DF10>, async_client=<openai.resources.embeddings.AsyncEmbeddings object at 0x000002A4A39BCB50>, model='text-embedding-ada-002', dimensions=None, deployment='text-embedding-ada-002', openai_api_version='', openai_api_base=None, openai_api_type='', openai_proxy='', embedding_ctx_length=8191, openai_api_key=SecretStr('**********'), openai_organization=None, allowed_special=None, disallowed_special=None, chunk_size=1000, max_retries=2, request_timeout=None, headers=None, tiktoken_enabled=True, tiktoken_model_name=None, show_progress_bar=False, model_kwargs={}, skip_empty=False, default_headers=None, default_query=None, retry_min_seconds=4, retry_max_seconds=20, http_client=None, http_async_client=None, check_embedding_ctx_length=True)"
      ]
     },
     "execution_count": 22,
     "metadata": {},
     "output_type": "execute_result"
    }
   ],
   "source": [
    "from langchain_openai import OpenAIEmbeddings\n",
    "\n",
    "embeddings = OpenAIEmbeddings()\n",
    "embeddings"
   ]
  },
  {
   "cell_type": "code",
   "execution_count": 23,
   "metadata": {},
   "outputs": [
    {
     "data": {
      "text/plain": [
       "1536"
      ]
     },
     "execution_count": 23,
     "metadata": {},
     "output_type": "execute_result"
    }
   ],
   "source": [
    "vectors = embeddings.embed_query(\"How are you?\")\n",
    "len(vectors)"
   ]
  },
  {
   "cell_type": "markdown",
   "metadata": {},
   "source": [
    "# Initializing VectorDB"
   ]
  },
  {
   "cell_type": "code",
   "execution_count": 24,
   "metadata": {},
   "outputs": [],
   "source": [
    "from langchain_pinecone import PineconeVectorStore\n",
    "\n",
    "index_name = \"langchainvector\"\n",
    "\n",
    "index = PineconeVectorStore.from_documents(doc, embeddings, index_name = index_name)"
   ]
  },
  {
   "cell_type": "markdown",
   "metadata": {},
   "source": [
    "# Prompt"
   ]
  },
  {
   "cell_type": "code",
   "execution_count": 33,
   "metadata": {},
   "outputs": [],
   "source": [
    "problem = \"\"\"\n",
    "\n",
    "Given a set of cities and the distances between each pair of cities, find the route \n",
    "that maximizes the total distance traveled by the car, such that each city is \n",
    "visited exactly once and the car returns to the original starting point. This \n",
    "is a modified version of travelling salesman problem.\n",
    "\n",
    "\"\"\"\n",
    "\n",
    "prompt = \"\"\"Take a deep breath and solve the question delimited by delimited by ''' step by step.\n",
    "\n",
    "'''{problem}'''\n",
    "\n",
    "\"\"\".format(problem = problem)"
   ]
  },
  {
   "cell_type": "markdown",
   "metadata": {},
   "source": [
    "# Models"
   ]
  },
  {
   "cell_type": "markdown",
   "metadata": {},
   "source": [
    "### OpenAI"
   ]
  },
  {
   "cell_type": "code",
   "execution_count": 37,
   "metadata": {},
   "outputs": [],
   "source": [
    "from langchain.chains.question_answering import load_qa_chain\n",
    "from langchain_openai import ChatOpenAI\n",
    "\n",
    "llm_openai = ChatOpenAI(model_name = \"gpt-3.5-turbo\", temperature=0)\n",
    "chain_openai = load_qa_chain(llm_openai, chain_type = \"stuff\")"
   ]
  },
  {
   "cell_type": "markdown",
   "metadata": {},
   "source": [
    "### HuggingFace"
   ]
  },
  {
   "cell_type": "code",
   "execution_count": 46,
   "metadata": {},
   "outputs": [],
   "source": [
    "from langchain import HuggingFaceHub\n",
    "\n",
    "llm_hf = HuggingFaceHub(repo_id=\"microsoft/Phi-3-vision-128k-instruct\", model_kwargs={\"temperature\": 0, \"max_length\": 64})\n",
    "chain_hf = load_qa_chain(llm_hf, chain_type = \"stuff\")"
   ]
  },
  {
   "cell_type": "markdown",
   "metadata": {},
   "source": [
    "# Run The LLM"
   ]
  },
  {
   "cell_type": "code",
   "execution_count": 50,
   "metadata": {},
   "outputs": [
    {
     "name": "stderr",
     "output_type": "stream",
     "text": [
      "e:\\My Projects\\LLMs for Optimzation\\venv_quiz\\lib\\site-packages\\langchain_core\\_api\\deprecation.py:119: LangChainDeprecationWarning: The method `BaseChatModel.predict` was deprecated in langchain-core 0.1.7 and will be removed in 0.3.0. Use invoke instead.\n",
      "  warn_deprecated(\n"
     ]
    },
    {
     "data": {
      "text/plain": [
       "'Step 1: Understand the problem\\n- We are given a set of cities and the distances between each pair of cities.\\n- We need to find the route that maximizes the total distance traveled by the car.\\n- Each city must be visited exactly once.\\n- The car must return to the original starting point.\\n\\nStep 2: Plan a solution\\n- This problem is a variation of the traveling salesman problem, which is NP-hard.\\n- One approach to solve this problem is to use a brute force algorithm to generate all possible routes and calculate the total distance for each route.\\n- We can then compare the total distances of all routes and find the route that maximizes the total distance traveled.\\n\\nStep 3: Implement the solution\\n- Write a function that takes the set of cities and distances as input.\\n- Generate all possible permutations of the cities to represent different routes.\\n- Calculate the total distance for each route by summing the distances between consecutive cities.\\n- Keep track of the route with the maximum total distance.\\n\\nStep 4: Test the solution\\n- Test the function with different sets of cities and distances to ensure it returns the correct route that maximizes the total distance traveled.\\n\\nStep 5: Optimize the solution (if needed)\\n- If the brute force approach is too slow for large sets of cities, consider using heuristics or approximation algorithms to find a near-optimal solution in a reasonable amount of time.'"
      ]
     },
     "execution_count": 50,
     "metadata": {},
     "output_type": "execute_result"
    }
   ],
   "source": [
    "llm_openai.predict(prompt)"
   ]
  },
  {
   "cell_type": "markdown",
   "metadata": {},
   "source": [
    "## RAG"
   ]
  },
  {
   "cell_type": "code",
   "execution_count": 51,
   "metadata": {},
   "outputs": [
    {
     "name": "stdout",
     "output_type": "stream",
     "text": [
      "[Document(page_content='THE TRAVELING SALESMAN PROBLEM 4\\nStep 3. calculate the distance of each tour.\\nStep 4. choose the shortest tour, this is the optimal solution.\\n3.1.2 Example for Brute Force Technique\\nA B\\nC D3\\n5\\n2 910\\n1\\nHere, there are 4 nodes. There is a possibility of the following 3 paths\\nA B\\nC D3\\n5\\n2 9\\n10\\n1A B\\nC D3\\n5\\n2 9\\n10\\n1\\nA→B→C→D→A= 15 A→B→D→C→A= 19', metadata={'page': 3.0, 'source': 'documents\\\\Travelling Salesman.pdf'}), Document(page_content='THE TRAVELING SALESMAN PROBLEM 4\\nStep 3. calculate the distance of each tour.\\nStep 4. choose the shortest tour, this is the optimal solution.\\n3.1.2 Example for Brute Force Technique\\nA B\\nC D3\\n5\\n2 910\\n1\\nHere, there are 4 nodes. There is a possibility of the following 3 paths\\nA B\\nC D3\\n5\\n2 9\\n10\\n1A B\\nC D3\\n5\\n2 9\\n10\\n1\\nA→B→C→D→A= 15 A→B→D→C→A= 19', metadata={'page': 3.0, 'source': 'documents\\\\Travelling Salesman.pdf'})]\n",
      "To solve this modified version of the Traveling Salesman Problem where we want to maximize the total distance traveled, we can follow these steps:\n",
      "\n",
      "1. **Generate all possible tours**: List out all the possible routes that visit each city exactly once and return to the starting point.\n",
      "\n",
      "2. **Calculate the distance of each tour**: For each tour, calculate the total distance traveled by summing up the distances between consecutive cities.\n",
      "\n",
      "3. **Choose the longest tour**: Instead of choosing the shortest tour as in the traditional Traveling Salesman Problem, in this modified version, we want to select the tour with the maximum total distance traveled.\n",
      "\n",
      "4. **Optimal Solution**: The tour that maximizes the total distance traveled while visiting each city exactly once and returning to the starting point is the optimal solution.\n",
      "\n",
      "By following these steps, you can find the route that maximizes the total distance traveled by the car in this modified version of the Traveling Salesman Problem.\n"
     ]
    }
   ],
   "source": [
    "our_query = prompt\n",
    "answer = retrieve_answers(our_query, chain_openai, index)\n",
    "print(answer)"
   ]
  },
  {
   "cell_type": "code",
   "execution_count": null,
   "metadata": {},
   "outputs": [],
   "source": []
  }
 ],
 "metadata": {
  "kernelspec": {
   "display_name": "Python 3",
   "language": "python",
   "name": "python3"
  },
  "language_info": {
   "codemirror_mode": {
    "name": "ipython",
    "version": 3
   },
   "file_extension": ".py",
   "mimetype": "text/x-python",
   "name": "python",
   "nbconvert_exporter": "python",
   "pygments_lexer": "ipython3",
   "version": "3.9.0"
  }
 },
 "nbformat": 4,
 "nbformat_minor": 2
}
